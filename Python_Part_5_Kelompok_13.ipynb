{
  "cells": [
    {
      "cell_type": "markdown",
      "metadata": {
        "id": "N8BNtR8yqmqW"
      },
      "source": [
        "# **Task 1: Basic OOP**"
      ]
    },
    {
      "cell_type": "markdown",
      "metadata": {
        "id": "7Ta3iDyNrA5Q"
      },
      "source": [
        "Buatlah class MarketingDataETL yang memiliki tiga metode:\n",
        "\n",
        "**extract()**: akan membaca data dari sebuah file CSV (Misalkan, marketing_data.csv)\n",
        "\n",
        "**transform()**: akan melakukan pembersihan dan transformasi sederhana pada data (seperti mengubah format tanggal atau membersihkan nilai yang kosong)\n",
        "\n",
        "**store()**: akan menyimpan data yang telah ditransformasi ke dalam struktur data DataFrame."
      ]
    },
    {
      "cell_type": "code",
      "source": [
        "import pandas as pd\n",
        "\n",
        "class MarketingDataETL:\n",
        "    def __init__(self, filename):\n",
        "        self.filename = filename\n",
        "        self.data = None\n",
        "\n",
        "    def extract(self):\n",
        "        try:\n",
        "            self.data = pd.read_csv(self.filename, sep=';')\n",
        "            print(\"Data berhasil diekstrak dari file:\", self.filename)\n",
        "        except FileNotFoundError:\n",
        "            print(\"File tidak ditemukan.\")\n",
        "        except Exception as e:\n",
        "            print(\"Terjadi kesalahan saat ekstraksi data:\", str(e))\n",
        "\n",
        "    def transform(self):\n",
        "        if self.data is not None:\n",
        "            # Implementasi transformasi sederhana pada data\n",
        "            try:\n",
        "                # Mengubah format tanggal\n",
        "                self.data['purchase_date'] = pd.to_datetime(self.data['purchase_date'], errors='coerce', format='%d/%m/%y')\n",
        "                print(\"Data berhasil ditransformasi.\")\n",
        "            except Exception as e:\n",
        "                print(\"Terjadi kesalahan saat transformasi data:\", str(e))\n",
        "        else:\n",
        "            print(\"Data belum diekstrak. Lakukan ekstraksi terlebih dahulu.\")\n",
        "\n",
        "    def store(self, output_filename):\n",
        "        if self.data is not None:\n",
        "            # Menyimpan data yang telah ditransformasi ke dalam DataFrame\n",
        "            try:\n",
        "                self.data.to_csv(output_filename, index=False)\n",
        "                print(\"Data berhasil disimpan dalam file:\", output_filename)\n",
        "            except Exception as e:\n",
        "                print(\"Terjadi kesalahan saat penyimpanan data:\", str(e))\n",
        "        else:\n",
        "            print(\"Data belum diekstrak dan ditransformasi. Lakukan ekstraksi dan transformasi terlebih dahulu.\")\n",
        "\n",
        "# Contoh penggunaan\n",
        "if __name__ == \"__main__\":\n",
        "    etl = MarketingDataETL(\"marketing_data.csv\")\n",
        "    etl.extract()\n",
        "    etl.transform()\n",
        "    etl.store(\"transformed_marketing_data.csv\")"
      ],
      "metadata": {
        "colab": {
          "base_uri": "https://localhost:8080/"
        },
        "id": "xMivQWWu5Egj",
        "outputId": "9b69f2f6-5ec7-42a6-b0c2-7862f9b2132c"
      },
      "execution_count": null,
      "outputs": [
        {
          "output_type": "stream",
          "name": "stdout",
          "text": [
            "Data berhasil diekstrak dari file: marketing_data.csv\n",
            "Data berhasil ditransformasi.\n",
            "Data berhasil disimpan dalam file: transformed_marketing_data.csv\n"
          ]
        }
      ]
    },
    {
      "cell_type": "markdown",
      "metadata": {
        "id": "CoD44GK9rje4"
      },
      "source": [
        "# **Task 2: Inheritance & Polymorphism**"
      ]
    },
    {
      "cell_type": "markdown",
      "metadata": {
        "id": "_a-5VzOSrqO4"
      },
      "source": [
        "\n",
        "**Gunakan inheritance untuk membuat class TargetedMarketingETL** yang mewarisi dari MarketingDataETL.\n",
        "\n",
        "**Tambahkan metode segment_customers()** yang mengelompokkan pelanggan berdasarkan kriteria tertentu (misalnya, pengeluaran total atau kategori produk yang dibeli).\n",
        "\n",
        "**Demonstrasi polymorphism dengan meng-override metode transform() dalam TargetedMarketingETL** untuk menambahkan logika segmentasi pelanggan ke dalam proses transformasi."
      ]
    },
    {
      "cell_type": "code",
      "source": [
        "import pandas as pd\n",
        "\n",
        "class MarketingDataETL:\n",
        "    def __init__(self, filename):\n",
        "        self.filename = filename\n",
        "        self.data = None\n",
        "\n",
        "    def extract(self):\n",
        "        try:\n",
        "            self.data = pd.read_csv(self.filename, sep=';')\n",
        "            print(\"Data berhasil diekstrak dari file:\", self.filename)\n",
        "        except FileNotFoundError:\n",
        "            print(\"File tidak ditemukan.\")\n",
        "        except Exception as e:\n",
        "            print(\"Terjadi kesalahan saat ekstraksi data:\", str(e))\n",
        "\n",
        "    def transform(self):\n",
        "        if self.data is not None:\n",
        "            # Implementasi transformasi sederhana pada data\n",
        "            try:\n",
        "                # Mengubah format tanggal\n",
        "                self.data['purchase_date'] = pd.to_datetime(self.data['purchase_date'], errors='coerce', format='%d/%m/%y')\n",
        "                print(\"Data berhasil ditransformasi.\")\n",
        "            except Exception as e:\n",
        "                print(\"Terjadi kesalahan saat transformasi data:\", str(e))\n",
        "        else:\n",
        "            print(\"Data belum diekstrak. Lakukan ekstraksi terlebih dahulu.\")\n",
        "\n",
        "    def store(self, output_filename):\n",
        "        if self.data is not None:\n",
        "            # Menyimpan data yang telah ditransformasi ke dalam DataFrame\n",
        "            try:\n",
        "                self.data.to_csv(output_filename, index=False)\n",
        "                print(\"Data berhasil disimpan dalam file:\", output_filename)\n",
        "            except Exception as e:\n",
        "                print(\"Terjadi kesalahan saat penyimpanan data:\", str(e))\n",
        "        else:\n",
        "            print(\"Data belum diekstrak dan ditransformasi. Lakukan ekstraksi dan transformasi terlebih dahulu.\")\n",
        "\n",
        "class TargetedMarketingETL(MarketingDataETL):\n",
        "    def __init__(self, filename):\n",
        "        super().__init__(filename)\n",
        "\n",
        "    def segment_customers(self, criteria):\n",
        "        if self.data is not None:\n",
        "            # Implementasi segmentasi pelanggan berdasarkan kriteria tertentu\n",
        "            try:\n",
        "                # Contoh: Mengelompokkan pelanggan berdasarkan pengeluaran total\n",
        "                customer_segments = self.data.groupby('customer_id')['amount_spent'].sum()\n",
        "                print(\"Pelanggan berhasil di-segment berdasarkan\", criteria)\n",
        "                return customer_segments\n",
        "            except Exception as e:\n",
        "                print(\"Terjadi kesalahan saat segmentasi pelanggan:\", str(e))\n",
        "        else:\n",
        "            print(\"Data belum diekstrak. Lakukan ekstraksi terlebih dahulu.\")\n",
        "\n",
        "    def transform(self):\n",
        "        # Override metode transform untuk menambahkan logika segmentasi pelanggan\n",
        "        super().transform()\n",
        "        print(\"Melakukan segmentasi pelanggan...\")\n",
        "        self.segment_customers('total_amount_spent')\n",
        "\n",
        "# Contoh penggunaan\n",
        "if __name__ == \"__main__\":\n",
        "    etl = TargetedMarketingETL(\"marketing_data.csv\")\n",
        "    etl.extract()\n",
        "    etl.transform()\n",
        "    etl.store(\"transformed_marketing_data.csv\")"
      ],
      "metadata": {
        "colab": {
          "base_uri": "https://localhost:8080/"
        },
        "id": "7_U8oYJ55KE4",
        "outputId": "71c79fd6-795c-4980-a365-38f95c224355"
      },
      "execution_count": null,
      "outputs": [
        {
          "output_type": "stream",
          "name": "stdout",
          "text": [
            "Data berhasil diekstrak dari file: marketing_data.csv\n",
            "Data berhasil ditransformasi.\n",
            "Melakukan segmentasi pelanggan...\n",
            "Pelanggan berhasil di-segment berdasarkan total_amount_spent\n",
            "Data berhasil disimpan dalam file: transformed_marketing_data.csv\n"
          ]
        }
      ]
    },
    {
      "cell_type": "code",
      "source": [],
      "metadata": {
        "id": "nlC6P5979b0a"
      },
      "execution_count": null,
      "outputs": []
    }
  ],
  "metadata": {
    "colab": {
      "provenance": []
    },
    "kernelspec": {
      "display_name": "Python 3",
      "name": "python3"
    },
    "language_info": {
      "name": "python"
    }
  },
  "nbformat": 4,
  "nbformat_minor": 0
}